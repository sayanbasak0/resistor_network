{
 "cells": [
  {
   "cell_type": "markdown",
   "source": [
    "# import libraries & set matplotlib backend"
   ],
   "metadata": {}
  },
  {
   "cell_type": "code",
   "execution_count": 1,
   "source": [
    "import numpy as np\r\n",
    "import networkx as nx\r\n",
    "%matplotlib qt \r\n",
    "import matplotlib as mpl\r\n",
    "import matplotlib.pyplot as plt\r\n",
    "plt.ion()\r\n",
    "import numpy as np\r\n",
    "import src.conductor as conductor"
   ],
   "outputs": [],
   "metadata": {}
  },
  {
   "cell_type": "markdown",
   "source": [
    "# Test 1D network"
   ],
   "metadata": {}
  },
  {
   "cell_type": "code",
   "execution_count": 2,
   "source": [
    "ntwrk = conductor.Network(staticnodes=[0,9])\r\n",
    "noOfNodes = 10\r\n",
    "for i in range(noOfNodes-1):\r\n",
    "    ntwrk.add_edge_resistor(i,i+1,1)\r\n",
    "ntwrk.draw(tViz=2)\r\n",
    "ntwrk.equivalent_resistance()\r\n",
    "ntwrk.draw(tViz=0.1)"
   ],
   "outputs": [],
   "metadata": {}
  },
  {
   "cell_type": "markdown",
   "source": [
    "# 2D Network from lattice data"
   ],
   "metadata": {}
  },
  {
   "cell_type": "markdown",
   "source": [
    "## Isotropic mapping of resistance"
   ],
   "metadata": {}
  },
  {
   "cell_type": "code",
   "execution_count": 3,
   "source": [
    "def Risotropic(S, dir):\r\n",
    "    return (np.cos(np.pi*S)+3)/2"
   ],
   "outputs": [],
   "metadata": {}
  },
  {
   "cell_type": "markdown",
   "source": [
    "## Anisotropic/Nematic mapping of resistance"
   ],
   "metadata": {}
  },
  {
   "cell_type": "code",
   "execution_count": 4,
   "source": [
    "def Rnematic(S, dir):\r\n",
    "    return ((np.cos(np.pi*S)+3)/2)*dir + ((-np.cos(np.pi*S)+3)/2)*(1-dir)"
   ],
   "outputs": [],
   "metadata": {}
  },
  {
   "cell_type": "markdown",
   "source": [
    "# Star-Mesh transform (Brute force)"
   ],
   "metadata": {}
  },
  {
   "cell_type": "code",
   "execution_count": 15,
   "source": [
    "%%time\r\n",
    "# latticeData = np.random.rand(10,10)\r\n",
    "latticeData = np.ones((40,40))\r\n",
    "for terminal_start in ['left','right','up','down']:\r\n",
    "    for terminal_end in ['left','right','up','down']:\r\n",
    "        grid2d = conductor.Lattice2DGrid(latticeData=latticeData,\r\n",
    "            Rfunc=Rnematic,\r\n",
    "            terminal_start=terminal_start, # 'left','right','up','down'\r\n",
    "            terminal_end=terminal_end, # 'left','right','up','down'\r\n",
    "            rad=0.3)\r\n",
    "        grid2d.BruteForceStarMesh()"
   ],
   "outputs": [
    {
     "output_type": "stream",
     "name": "stdout",
     "text": [
      "left<->left: Shorted measurement terminals!\n",
      "left<->left: R = 0\n",
      "left<->right: R = 4.000000000000001\n",
      "left<->right: Time Elapsed = 7.4 seconds\n",
      "left<->up: R = 0.8385857062694907\n",
      "left<->up: Time Elapsed = 7.6 seconds\n",
      "left<->down: R = 0.8385857062694955\n",
      "left<->down: Time Elapsed = 7.3 seconds\n",
      "right<->left: R = 4.000000000000001\n",
      "right<->left: Time Elapsed = 6.9 seconds\n",
      "right<->right: Shorted measurement terminals!\n",
      "right<->right: R = 0\n",
      "right<->up: R = 0.8385857062694946\n",
      "right<->up: Time Elapsed = 7.1 seconds\n",
      "right<->down: R = 0.8385857062694946\n",
      "right<->down: Time Elapsed = 7.6 seconds\n",
      "up<->left: R = 0.8385857062694907\n",
      "up<->left: Time Elapsed = 7.2 seconds\n",
      "up<->right: R = 0.8385857062694946\n",
      "up<->right: Time Elapsed = 6.3 seconds\n",
      "up<->up: Shorted measurement terminals!\n",
      "up<->up: R = 0\n",
      "up<->down: R = 1.999999999999995\n",
      "up<->down: Time Elapsed = 6.5 seconds\n",
      "down<->left: R = 0.8385857062694955\n",
      "down<->left: Time Elapsed = 7.4 seconds\n",
      "down<->right: R = 0.8385857062694946\n",
      "down<->right: Time Elapsed = 6.8 seconds\n",
      "down<->up: R = 1.999999999999995\n",
      "down<->up: Time Elapsed = 6.9 seconds\n",
      "down<->down: Shorted measurement terminals!\n",
      "down<->down: R = 0\n",
      "Wall time: 1min 25s\n"
     ]
    }
   ],
   "metadata": {}
  },
  {
   "cell_type": "markdown",
   "source": [
    "## Watch it happen!"
   ],
   "metadata": {}
  },
  {
   "cell_type": "code",
   "execution_count": 11,
   "source": [
    "%%time\r\n",
    "from importlib import reload\r\n",
    "reload(conductor)\r\n",
    "# latticeData = np.random.rand(10,10)\r\n",
    "latticeData = np.ones((10,10))\r\n",
    "grid2d = conductor.Lattice2DGrid(latticeData=latticeData,\r\n",
    "    Rfunc=Rnematic,\r\n",
    "    terminal_start='left', # 'left','right','up','down'\r\n",
    "    terminal_end='right', # 'left','right','up','down'\r\n",
    "    rad=0.3,\r\n",
    "    plot_initial=True)\r\n",
    "grid2d.BruteForceStarMesh(update_plot=True,annotate_resistors=False,annotate_nodes=False,tViz=0.0001,plot_final=True)"
   ],
   "outputs": [
    {
     "output_type": "stream",
     "name": "stdout",
     "text": [
      "left<->right: R = 3.9999999999999987\n",
      "left<->right: Time Elapsed = 16.9 seconds\n",
      "Wall time: 17.8 s\n"
     ]
    }
   ],
   "metadata": {}
  },
  {
   "cell_type": "markdown",
   "source": [
    "# Bond propagation 2D grid"
   ],
   "metadata": {}
  },
  {
   "cell_type": "code",
   "execution_count": 13,
   "source": [
    "%%time\r\n",
    "latticeData = np.ones((40,40))\r\n",
    "for terminal_start in ['left','right','up','down']:\r\n",
    "    for terminal_end in ['left','right','up','down']:\r\n",
    "        grid2d = conductor.Lattice2DGrid(latticeData=latticeData,\r\n",
    "            Rfunc=Risotropic,\r\n",
    "            terminal_start=terminal_start, # 'left','right','up','down'\r\n",
    "            terminal_end=terminal_end, # 'left','right','up','down'\r\n",
    "            rad=0.3)\r\n",
    "        grid2d.BondPropagation2D()"
   ],
   "outputs": [
    {
     "output_type": "stream",
     "name": "stdout",
     "text": [
      "left<->left: Shorted measurement terminals!\n",
      "left<->left: R = 0\n",
      "left<->right: R = 1.9999999999999993\n",
      "left<->right: Time Elapsed = 4.0 seconds\n",
      "left<->up: R = 0.5837750895665104\n",
      "left<->up: Time Elapsed = 6.2 seconds\n",
      "left<->down: R = 0.5837750895665104\n",
      "left<->down: Time Elapsed = 6.3 seconds\n",
      "right<->left: R = 1.9999999999999993\n",
      "right<->left: Time Elapsed = 4.2 seconds\n",
      "right<->right: Shorted measurement terminals!\n",
      "right<->right: R = 0\n",
      "right<->up: R = 0.5837750895665104\n",
      "right<->up: Time Elapsed = 6.1 seconds\n",
      "right<->down: R = 0.5837750895665104\n",
      "right<->down: Time Elapsed = 5.8 seconds\n",
      "up<->left: R = 0.5837750895665104\n",
      "up<->left: Time Elapsed = 5.6 seconds\n",
      "up<->right: R = 0.5837750895665104\n",
      "up<->right: Time Elapsed = 5.6 seconds\n",
      "up<->up: Shorted measurement terminals!\n",
      "up<->up: R = 0\n",
      "up<->down: R = 2.0000000000000004\n",
      "up<->down: Time Elapsed = 3.8 seconds\n",
      "down<->left: R = 0.5837750895665104\n",
      "down<->left: Time Elapsed = 6.4 seconds\n",
      "down<->right: R = 0.5837750895665104\n",
      "down<->right: Time Elapsed = 5.9 seconds\n",
      "down<->up: R = 2.0000000000000004\n",
      "down<->up: Time Elapsed = 3.7 seconds\n",
      "down<->down: Shorted measurement terminals!\n",
      "down<->down: R = 0\n",
      "Wall time: 1min 3s\n"
     ]
    }
   ],
   "metadata": {}
  },
  {
   "cell_type": "markdown",
   "source": [
    "## Watch it happen!"
   ],
   "metadata": {}
  },
  {
   "cell_type": "code",
   "execution_count": 14,
   "source": [
    "%%time\r\n",
    "# latticeData = np.random.rand(10,10)\r\n",
    "latticeData = np.ones((10,10))\r\n",
    "grid2d = conductor.Lattice2DGrid(latticeData=latticeData,\r\n",
    "    Rfunc=Rnematic,\r\n",
    "    terminal_start='left', # 'left','right','up','down'\r\n",
    "    terminal_end='right', # 'left','right','up','down'\r\n",
    "    rad=0.3,\r\n",
    "    plot_initial=True)\r\n",
    "grid2d.BondPropagation2D(update_plot=True,annotate_resistors=False,annotate_nodes=False,tViz=0.0001,plot_final=True)"
   ],
   "outputs": [
    {
     "output_type": "stream",
     "name": "stdout",
     "text": [
      "left<->right: R = 4.000000000000001\n",
      "left<->right: Time Elapsed = 105.5 seconds\n",
      "Wall time: 1min 46s\n"
     ]
    }
   ],
   "metadata": {}
  },
  {
   "cell_type": "markdown",
   "source": [
    "---\r\n",
    "# END"
   ],
   "metadata": {}
  }
 ],
 "metadata": {
  "orig_nbformat": 4,
  "language_info": {
   "name": "python",
   "version": "3.7.10",
   "mimetype": "text/x-python",
   "codemirror_mode": {
    "name": "ipython",
    "version": 3
   },
   "pygments_lexer": "ipython3",
   "nbconvert_exporter": "python",
   "file_extension": ".py"
  },
  "kernelspec": {
   "name": "python3",
   "display_name": "Python 3.7.10 64-bit ('base': conda)"
  },
  "interpreter": {
   "hash": "7b4b4feff2f24a0f0a34464dbe537a36fda679851528fb8735cb41fa49dffb2d"
  }
 },
 "nbformat": 4,
 "nbformat_minor": 2
}