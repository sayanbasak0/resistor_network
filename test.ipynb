{
 "cells": [
  {
   "cell_type": "markdown",
   "source": [
    "# import libraries & set matplotlib backend"
   ],
   "metadata": {}
  },
  {
   "cell_type": "code",
   "execution_count": 1,
   "source": [
    "import numpy as np\r\n",
    "import networkx as nx\r\n",
    "%matplotlib qt \r\n",
    "import matplotlib as mpl\r\n",
    "import matplotlib.pyplot as plt\r\n",
    "plt.ion()\r\n",
    "import numpy as np\r\n",
    "import src.conductor as conductor\r\n",
    "from importlib import reload"
   ],
   "outputs": [],
   "metadata": {}
  },
  {
   "cell_type": "markdown",
   "source": [
    "# Test 1D network"
   ],
   "metadata": {}
  },
  {
   "cell_type": "code",
   "execution_count": 2,
   "source": [
    "reload(conductor)\r\n",
    "ntwrk = conductor.Network(staticnodes=[0,9])\r\n",
    "noOfNodes = 10\r\n",
    "for i in range(noOfNodes-1):\r\n",
    "    ntwrk.add_edge_resistor(i,i+1,1)\r\n",
    "ntwrk.draw(tViz=2)\r\n",
    "for i in range(0,noOfNodes-1):\r\n",
    "    ntwrk.star_mesh(i)\r\n",
    "ntwrk.draw(tViz=0.1)"
   ],
   "outputs": [],
   "metadata": {}
  },
  {
   "cell_type": "markdown",
   "source": [
    "# Initialize 2D network"
   ],
   "metadata": {}
  },
  {
   "cell_type": "code",
   "execution_count": 3,
   "source": [
    "reload(conductor)\r\n",
    "def init_sample_network(\r\n",
    "    Xlen = 10,\r\n",
    "    Ylen = 10,\r\n",
    "    rad=0.3):\r\n",
    "    start_node = (Xlen//2,0)\r\n",
    "    end_node = (Xlen//2,Ylen-1)\r\n",
    "    ntwrk = conductor.Network(staticnodes=[start_node,end_node],rad=rad)\r\n",
    "    for i in range(Xlen):\r\n",
    "        for j in range(Ylen):\r\n",
    "            if j+1<Ylen:\r\n",
    "                ntwrk.add_edge_resistor((i,j),(i,(j+1)),1)\r\n",
    "            if i+1<Xlen:\r\n",
    "                if j==0 or j==Ylen-1:\r\n",
    "                    ntwrk.add_edge_resistor((i,j),((i+1),j),0)\r\n",
    "                else:\r\n",
    "                    ntwrk.add_edge_resistor((i,j),((i+1),j),1)\r\n",
    "    return ntwrk\r\n"
   ],
   "outputs": [],
   "metadata": {}
  },
  {
   "cell_type": "markdown",
   "source": [
    "# Star-Mesh transform (Brute force)"
   ],
   "metadata": {}
  },
  {
   "cell_type": "code",
   "execution_count": 4,
   "source": [
    "%%time\r\n",
    "reload(conductor)\r\n",
    "ntwrk = init_sample_network(Xlen=10,Ylen=10)\r\n",
    "ntwrk.draw()"
   ],
   "outputs": [
    {
     "output_type": "stream",
     "name": "stdout",
     "text": [
      "Wall time: 932 ms\n"
     ]
    }
   ],
   "metadata": {}
  },
  {
   "cell_type": "code",
   "execution_count": 5,
   "source": [
    "%%time\r\n",
    "for node in list(ntwrk.nodes):\r\n",
    "    ntwrk.star_mesh(node)\r\n",
    "    print(f\"\\rRemoved node:{node} ... \",end='',flush=True)\r\n",
    "    ntwrk.draw(annotate_resistors=False)\r\n",
    "ntwrk.draw()\r\n",
    "print(\"Done!\")"
   ],
   "outputs": [
    {
     "output_type": "stream",
     "name": "stdout",
     "text": [
      "Removed node:(9, 9) ... Done!\n",
      "Wall time: 11.6 s\n"
     ]
    }
   ],
   "metadata": {}
  },
  {
   "cell_type": "code",
   "execution_count": 15,
   "source": [
    "%%time\r\n",
    "reload(conductor)\r\n",
    "ntwrk = init_sample_network(Xlen=100,Ylen=100)\r\n",
    "# ntwrk.draw()"
   ],
   "outputs": [
    {
     "output_type": "stream",
     "name": "stdout",
     "text": [
      "Wall time: 153 ms\n"
     ]
    }
   ],
   "metadata": {}
  },
  {
   "cell_type": "code",
   "execution_count": 16,
   "source": [
    "%%time\r\n",
    "for node in list(ntwrk.nodes):\r\n",
    "    ntwrk.star_mesh(node)\r\n",
    "    # print(f\"\\rRemoved node:{node} ... \",end='',flush=True)\r\n",
    "    # ntwrk.draw(annotate_resistors=False)\r\n",
    "# ntwrk.draw()\r\n",
    "print(\"Done!\")"
   ],
   "outputs": [
    {
     "output_type": "stream",
     "name": "stdout",
     "text": [
      "Done!\n",
      "Wall time: 3min 22s\n"
     ]
    }
   ],
   "metadata": {}
  },
  {
   "cell_type": "markdown",
   "source": [
    "# Bond propagation"
   ],
   "metadata": {}
  },
  {
   "cell_type": "code",
   "execution_count": 6,
   "source": [
    "def propagate(node1,node2,node3, update_plot=True, tViz=0.001):\r\n",
    "    newnode = tuple(map(np.mean,zip(node1,node2,node3)))\r\n",
    "    node = ntwrk.delta_wye(node1,node2,node3,newnode)\r\n",
    "    if update_plot:\r\n",
    "        ntwrk.pos[node] = ntwrk.node_to_pos(*node)\r\n",
    "        ntwrk.draw(annotate_resistors=False,tViz=tViz)\r\n",
    "    ntwrk.star_mesh(node3)\r\n",
    "    if update_plot:\r\n",
    "        ntwrk.draw(annotate_resistors=False,tViz=tViz)\r\n",
    "    ntwrk.shift_node(node,node3)\r\n",
    "    if update_plot:\r\n",
    "        ntwrk.draw(annotate_resistors=False,tViz=tViz)"
   ],
   "outputs": [],
   "metadata": {}
  },
  {
   "cell_type": "code",
   "execution_count": 11,
   "source": [
    "%%time\r\n",
    "reload(conductor)\r\n",
    "ntwrk = init_sample_network(Xlen=10,Ylen=10, rad=0.2)\r\n",
    "ntwrk.draw()"
   ],
   "outputs": [
    {
     "output_type": "stream",
     "name": "stdout",
     "text": [
      "Wall time: 598 ms\n"
     ]
    }
   ],
   "metadata": {}
  },
  {
   "cell_type": "code",
   "execution_count": 12,
   "source": [
    "%%time\r\n",
    "Xlen,Ylen = np.max(ntwrk.nodes,axis=0) + 1\r\n",
    "update_on = True\r\n",
    "for i in range(Xlen):\r\n",
    "    ntwrk.star_mesh((i,Ylen-1))\r\n",
    "    if update_on:\r\n",
    "        ntwrk.draw(annotate_resistors=False,tViz=0.0001)\r\n",
    "    ntwrk.star_mesh((i,0))\r\n",
    "    if update_on:\r\n",
    "        ntwrk.draw(annotate_resistors=False,tViz=0.0001)\r\n",
    "for j in range(1,Ylen-1):\r\n",
    "    for i in range(Xlen):\r\n",
    "        if ntwrk.has_edge((i+1,j),(i,j)) and ntwrk[(i+1,j)][(i,j)]['resistance']==0:\r\n",
    "            if not ntwrk.merge_short((i+1,j),(i,j)):\r\n",
    "                continue\r\n",
    "        else:\r\n",
    "            ntwrk.star_mesh((i,j))\r\n",
    "        if update_on:\r\n",
    "            ntwrk.draw(annotate_resistors=False,tViz=0.0001)\r\n",
    "        ii=i\r\n",
    "        jj=j\r\n",
    "        while ii+1<Xlen and jj+1<Ylen-1:\r\n",
    "            if update_on:\r\n",
    "                print(f\"\\rPropagating edge:({ii},{jj+1}),({ii+1},{jj}) ... \", end='', flush=True)\r\n",
    "            propagate((ii,jj+1),(ii+1,jj),(ii+1,jj+1), tViz=0.0001, update_plot=update_on)\r\n",
    "            ii+=1\r\n",
    "            jj+=1\r\n",
    "if update_on:\r\n",
    "    ntwrk.draw()\r\n",
    "print(\"Done!\")"
   ],
   "outputs": [
    {
     "output_type": "stream",
     "name": "stdout",
     "text": [
      "Done!\n",
      "Wall time: 1min 6s\n"
     ]
    }
   ],
   "metadata": {}
  },
  {
   "cell_type": "code",
   "execution_count": 13,
   "source": [
    "%%time\r\n",
    "reload(conductor)\r\n",
    "ntwrk = init_sample_network(Xlen=100,Ylen=100, rad=0.2)\r\n",
    "# ntwrk.draw()"
   ],
   "outputs": [
    {
     "output_type": "stream",
     "name": "stdout",
     "text": [
      "Wall time: 134 ms\n"
     ]
    }
   ],
   "metadata": {}
  },
  {
   "cell_type": "code",
   "execution_count": 14,
   "source": [
    "%%time\r\n",
    "Xlen,Ylen = np.max(ntwrk.nodes,axis=0) + 1\r\n",
    "update_on = False\r\n",
    "for i in range(Xlen):\r\n",
    "    ntwrk.star_mesh((i,Ylen-1))\r\n",
    "    if update_on:\r\n",
    "        ntwrk.draw(annotate_resistors=False,tViz=0.0001)\r\n",
    "    ntwrk.star_mesh((i,0))\r\n",
    "    if update_on:\r\n",
    "        ntwrk.draw(annotate_resistors=False,tViz=0.0001)\r\n",
    "for j in range(1,Ylen-1):\r\n",
    "    for i in range(Xlen):\r\n",
    "        if ntwrk.has_edge((i+1,j),(i,j)) and ntwrk[(i+1,j)][(i,j)]['resistance']==0:\r\n",
    "            if not ntwrk.merge_short((i+1,j),(i,j)):\r\n",
    "                continue\r\n",
    "        else:\r\n",
    "            ntwrk.star_mesh((i,j))\r\n",
    "        if update_on:\r\n",
    "            ntwrk.draw(annotate_resistors=False,tViz=0.0001)\r\n",
    "        ii=i\r\n",
    "        jj=j\r\n",
    "        while ii+1<Xlen and jj+1<Ylen-1:\r\n",
    "            if update_on:\r\n",
    "                print(f\"\\rPropagating edge:({ii},{jj+1}),({ii+1},{jj}) ... \", end='', flush=True)\r\n",
    "            propagate((ii,jj+1),(ii+1,jj),(ii+1,jj+1), tViz=0.0001, update_plot=update_on)\r\n",
    "            ii+=1\r\n",
    "            jj+=1\r\n",
    "if update_on:\r\n",
    "    ntwrk.draw()\r\n",
    "print(\"Done!\")"
   ],
   "outputs": [
    {
     "output_type": "stream",
     "name": "stdout",
     "text": [
      "Done!\n",
      "Wall time: 42.9 s\n"
     ]
    }
   ],
   "metadata": {}
  },
  {
   "cell_type": "code",
   "execution_count": 115,
   "source": [
    "reload(conductor)\r\n",
    "def Risotropic(S, dir):\r\n",
    "    return (np.cos(np.pi*S)+3)/2\r\n",
    "def Rnematic(S, dir):\r\n",
    "    return ((np.cos(np.pi*S)+3)/2)*dir + ((-np.cos(np.pi*S)+3)/2)*(1-dir)\r\n",
    "# latticeData = np.random.rand(4,4)\r\n",
    "latticeData = np.ones((10,10))"
   ],
   "outputs": [],
   "metadata": {}
  },
  {
   "cell_type": "code",
   "execution_count": 131,
   "source": [
    "reload(conductor)\r\n",
    "latticeData = np.ones((40,20))\r\n",
    "for terminal_start in ['left','right','up','down']:\r\n",
    "    for terminal_end in ['left','right','up','down']:\r\n",
    "        # if terminal_end=='down':\r\n",
    "            grid2d = conductor.Lattice2DGrid(latticeData=latticeData,\r\n",
    "                Rfunc=Risotropic,\r\n",
    "                terminal_start=terminal_start, # 'left','right','up','down'\r\n",
    "                terminal_end=terminal_end, # 'left','right','up','down'\r\n",
    "                rad=0)\r\n",
    "            grid2d.BondPropagation2D(update_plot=False,annotate_resistors=False,annotate_nodes=True,tViz=0.0001)\r\n",
    "            # break\r\n",
    "    # break"
   ],
   "outputs": [
    {
     "output_type": "stream",
     "name": "stdout",
     "text": [
      "left<->left: Shorted measurement terminals!\n",
      "left<->left: R = 0\n",
      "left<->right: R = 4.000000000000003\n",
      "left<->right: Time Elapsed = 1.2 seconds\n",
      "left<->up: R = 0.648195938699233\n",
      "left<->up: Time Elapsed = 1.8 seconds\n",
      "left<->down: R = 0.648195938699233\n",
      "left<->down: Time Elapsed = 1.8 seconds\n",
      "right<->left: R = 4.000000000000003\n",
      "right<->left: Time Elapsed = 1.0 seconds\n",
      "right<->right: Shorted measurement terminals!\n",
      "right<->right: R = 0\n",
      "right<->up: R = 0.648195938699233\n",
      "right<->up: Time Elapsed = 1.8 seconds\n",
      "right<->down: R = 0.648195938699233\n",
      "right<->down: Time Elapsed = 1.8 seconds\n",
      "up<->left: R = 0.648195938699233\n",
      "up<->left: Time Elapsed = 2.0 seconds\n",
      "up<->right: R = 0.648195938699233\n",
      "up<->right: Time Elapsed = 2.0 seconds\n",
      "up<->up: Shorted measurement terminals!\n",
      "up<->up: R = 0\n",
      "up<->down: R = 1.0\n",
      "up<->down: Time Elapsed = 1.5 seconds\n",
      "down<->left: R = 0.648195938699233\n",
      "down<->left: Time Elapsed = 1.8 seconds\n",
      "down<->right: R = 0.648195938699233\n",
      "down<->right: Time Elapsed = 1.7 seconds\n",
      "down<->up: R = 1.0\n",
      "down<->up: Time Elapsed = 1.5 seconds\n",
      "down<->down: Shorted measurement terminals!\n",
      "down<->down: R = 0\n"
     ]
    }
   ],
   "metadata": {}
  },
  {
   "cell_type": "code",
   "execution_count": 112,
   "source": [
    "reload(conductor)\r\n",
    "for terminal_start in ['left','right','up','down']:\r\n",
    "    for terminal_end in ['left','right','up','down']:\r\n",
    "        grid2d = conductor.Lattice2DGrid(latticeData=latticeData,\r\n",
    "            Rfunc=Rnematic,\r\n",
    "            terminal_start=terminal_start, # 'left','right','up','down'\r\n",
    "            terminal_end=terminal_end, # 'left','right','up','down'\r\n",
    "            rad=0)\r\n",
    "        grid2d.BondPropagation2D(update_plot=False,annotate_nodes=False,tViz=0.0001)\r\n",
    "    #     if terminal_end=='down':\r\n",
    "    #         break\r\n",
    "    # break"
   ],
   "outputs": [
    {
     "output_type": "stream",
     "name": "stdout",
     "text": [
      "left<->left: Shorted measurement terminals!\n",
      "left<->left: R = 0\n",
      "left<->right: R = 3.999999999999999\n",
      "left<->up: R = 1.48721740781847\n",
      "left<->down: R = 1.48721740781847\n",
      "right<->left: R = 3.999999999999999\n",
      "right<->right: Shorted measurement terminals!\n",
      "right<->right: R = 0\n",
      "right<->up: R = 1.48721740781847\n",
      "right<->down: R = 1.48721740781847\n",
      "up<->left: R = 1.48721740781847\n",
      "up<->right: R = 1.48721740781847\n",
      "up<->up: Shorted measurement terminals!\n",
      "up<->up: R = 0\n",
      "up<->down: R = 2.0\n",
      "down<->left: R = 1.48721740781847\n",
      "down<->right: R = 1.48721740781847\n",
      "down<->up: R = 2.0\n",
      "down<->down: Shorted measurement terminals!\n",
      "down<->down: R = 0\n"
     ]
    }
   ],
   "metadata": {}
  },
  {
   "cell_type": "markdown",
   "source": [
    "---\r\n",
    "# END"
   ],
   "metadata": {}
  }
 ],
 "metadata": {
  "orig_nbformat": 4,
  "language_info": {
   "name": "python",
   "version": "3.7.10",
   "mimetype": "text/x-python",
   "codemirror_mode": {
    "name": "ipython",
    "version": 3
   },
   "pygments_lexer": "ipython3",
   "nbconvert_exporter": "python",
   "file_extension": ".py"
  },
  "kernelspec": {
   "name": "python3",
   "display_name": "Python 3.7.10 64-bit ('base': conda)"
  },
  "interpreter": {
   "hash": "7b4b4feff2f24a0f0a34464dbe537a36fda679851528fb8735cb41fa49dffb2d"
  }
 },
 "nbformat": 4,
 "nbformat_minor": 2
}